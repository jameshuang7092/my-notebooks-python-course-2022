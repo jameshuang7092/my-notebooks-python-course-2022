{
  "nbformat": 4,
  "nbformat_minor": 0,
  "metadata": {
    "colab": {
      "name": "My First Notebook",
      "provenance": [],
      "authorship_tag": "ABX9TyPcjj8ooZIEaR0siw/RhANk",
      "include_colab_link": true
    },
    "kernelspec": {
      "name": "python3",
      "display_name": "Python 3"
    },
    "language_info": {
      "name": "python"
    }
  },
  "cells": [
    {
      "cell_type": "markdown",
      "metadata": {
        "id": "view-in-github",
        "colab_type": "text"
      },
      "source": [
        "<a href=\"https://colab.research.google.com/github/jameshuang7092/my-notebooks-python-course-2022/blob/main/My_First_Notebook.ipynb\" target=\"_parent\"><img src=\"https://colab.research.google.com/assets/colab-badge.svg\" alt=\"Open In Colab\"/></a>"
      ]
    },
    {
      "cell_type": "markdown",
      "source": [
        "this is a test\n",
        "\n",
        "we can write any language (like english)\n",
        "# my heading\n",
        "## heading level 2\n",
        "### test test test\n",
        "here is a list:\n",
        "\n",
        "+ item 1\n",
        "+ item 2\n",
        "+ item 3\n",
        "\n",
        "numbered list:\n",
        "\n",
        "1. item 1\n",
        "2. item 2\n",
        "3. item 3\n",
        "\n",
        "this is a link: [link name](https://www.google.com/)\n",
        "\n",
        "\n",
        "\n",
        "this is a code block (we'll use in README files):\n",
        "\n",
        "```\n",
        "print(\"hello\")\n",
        "```\n"
      ],
      "metadata": {
        "id": "mvvDf7k6wq16"
      }
    },
    {
      "cell_type": "code",
      "source": [
        "# This is some example python code\n",
        "# These lines starting with # are \"comments\"\n",
        "# Remember \"#\" means something different in Markdown than it does in Python\n",
        "\n",
        "print(\"HELLO WORLD!\")\n",
        "\n",
        "x = 2 + 2\n",
        "print(x)\n"
      ],
      "metadata": {
        "colab": {
          "base_uri": "https://localhost:8080/"
        },
        "id": "Kc25r5B8zEjy",
        "outputId": "56be01a4-50d6-40df-f9ca-a8c6683170ae"
      },
      "execution_count": 2,
      "outputs": [
        {
          "output_type": "stream",
          "name": "stdout",
          "text": [
            "HELLO WORLD!\n",
            "4\n"
          ]
        }
      ]
    }
  ]
}